{
 "cells": [
  {
   "cell_type": "code",
   "execution_count": 1,
   "metadata": {},
   "outputs": [],
   "source": [
    "import glob\n",
    "import numpy as np\n",
    "import pandas as pd\n",
    "from sklearn.ensemble import RandomForestClassifier\n",
    "from sklearn.metrics import accuracy_score\n",
    "from sklearn.metrics import precision_score\n",
    "from sklearn.metrics import recall_score\n",
    "from sklearn.metrics import f1_score\n",
    "from sklearn.metrics import r2_score\n",
    "from sklearn.metrics import roc_auc_score\n",
    "from sklearn.metrics import confusion_matrix, roc_curve\n",
    "from sklearn.metrics import classification_report, precision_recall_fscore_support\n",
    "from sklearn.tree import export_graphviz, DecisionTreeClassifier\n",
    "from sklearn.model_selection import train_test_split\n",
    "from sklearn.cluster import DBSCAN\n",
    "from sklearn import tree\n",
    "from scipy import stats\n",
    "import ipaddress\n",
    "import pickle\n",
    "import re\n",
    "import sys\n",
    "import tempfile\n",
    "import matplotlib as mpl\n",
    "import matplotlib.pyplot as plt\n",
    "import sklearn\n",
    "from sklearn.metrics import confusion_matrix\n",
    "from sklearn.metrics import ConfusionMatrixDisplay\n",
    "from sklearn.preprocessing import StandardScaler\n",
    "from sklearn.utils import class_weight\n",
    "\n",
    "pd.options.mode.chained_assignment = None\n",
    "from IPython.display import display, HTML"
   ]
  },
  {
   "cell_type": "code",
   "execution_count": 2,
   "metadata": {},
   "outputs": [],
   "source": [
    "b_classes = ['normal', 'malware']  ### 0: Normal   1: Malware\n",
    "m_classes = ['normal', 'backdoor', 'dos', 'ddos', 'injection', 'mitm', 'password', 'ransomware', 'scanning', 'xss']\n",
    "g_classes = ['normal', 'backdoor', 'dos', 'others'] "
   ]
  },
  {
   "cell_type": "code",
   "execution_count": 3,
   "metadata": {},
   "outputs": [],
   "source": [
    "b_classes_df = pd.DataFrame(b_classes, columns=['class'])\n",
    "m_classes_df = pd.DataFrame(m_classes, columns=['class'])\n",
    "g_classes_df = pd.DataFrame(g_classes, columns=['class'])"
   ]
  },
  {
   "attachments": {},
   "cell_type": "markdown",
   "metadata": {},
   "source": [
    "# Functions"
   ]
  },
  {
   "cell_type": "code",
   "execution_count": 5,
   "metadata": {},
   "outputs": [],
   "source": [
    "def save_model(RF, filename):\n",
    "\n",
    "    pickle.dump(RF, open(filename, 'wb'))"
   ]
  },
  {
   "cell_type": "code",
   "execution_count": 4,
   "metadata": {},
   "outputs": [],
   "source": [
    "\"\"\"\n",
    "Function to prepare the classes to be classified.\n",
    "\"\"\"\n",
    "def prepare_new_classes(data):\n",
    "    data['g_class'] = [-1]*len(data)\n",
    "    data['g_class'] = np.where(((data['type']=='normal') | (data['type']=='backdoor') | (data['type']=='dos') ), data['type'], 'others')\n",
    "    return data"
   ]
  },
  {
   "cell_type": "code",
   "execution_count": 6,
   "metadata": {},
   "outputs": [],
   "source": [
    "\"\"\"\n",
    "Function to Fit model based on optimal values of depth and number of estimators and use it\n",
    "to compute feature importance for all the features.\n",
    "\"\"\"\n",
    "def get_feature_importance(depth, n_tree, max_leaf, X_train, y_train):\n",
    "    \n",
    "    rf_opt = RandomForestClassifier(max_depth = depth, n_estimators = n_tree, max_leaf_nodes=max_leaf, random_state=42, bootstrap=False)\n",
    "    rf_opt.fit(X_train, y_train)\n",
    "    feature_importance = pd.DataFrame(rf_opt.feature_importances_)\n",
    "    feature_importance.index = X_train.columns\n",
    "    feature_importance = feature_importance.sort_values(by=list(feature_importance.columns),axis=0,ascending=False)\n",
    "    \n",
    "    return feature_importance"
   ]
  },
  {
   "cell_type": "code",
   "execution_count": 7,
   "metadata": {},
   "outputs": [],
   "source": [
    "\"\"\"\n",
    "Function to Fit model based on optimal values of depth and number of estimators and feature importance\n",
    "to find the fewest possible features to exceed the previously attained score with all selected features\n",
    "\"\"\"\n",
    "def get_fewest_features(depth, n_tree, max_leaf, importance):    \n",
    "    sorted_feature_names = importance.index\n",
    "    print('sorted_feature_names: ', sorted_feature_names)\n",
    "    features = []\n",
    "    for f in range(1,len(sorted_feature_names)+1):\n",
    "        features.append(sorted_feature_names[0:f])\n",
    "    print('features:', features)\n",
    "    return features"
   ]
  },
  {
   "cell_type": "code",
   "execution_count": 9,
   "metadata": {},
   "outputs": [],
   "source": [
    "\"\"\"\n",
    "Function to calculate the score of the RF model with the given\n",
    "depth, number of trees, and features\n",
    "\"\"\"\n",
    "def get_scores(classes, depth, n_tree, feats, max_leaf, X_train, y_train, X_test, y_test):\n",
    "    model = RandomForestClassifier(max_depth=depth, n_estimators = n_tree, max_leaf_nodes=max_leaf, n_jobs=4,\n",
    "                                    random_state=42, bootstrap=False)\n",
    "    # scores = cross_val_score(rf_try, np.array(features[sorted_feature_names[0:f]]), \n",
    "    #                         Label, cv=5, scoring='f1_macro')\n",
    "    \n",
    "    model.fit(X_train[feats], y_train)\n",
    "    y_pred = model.predict(X_test[feats])\n",
    "\n",
    "    class_report = classification_report(y_test, y_pred, target_names=classes, output_dict = True)\n",
    "    #print(classification_report)\n",
    "    macro_score = class_report['macro avg']['f1-score']\n",
    "    weighted_score = class_report['weighted avg']['f1-score']\n",
    "\n",
    "    return model, class_report, macro_score, weighted_score, y_pred"
   ]
  },
  {
   "cell_type": "code",
   "execution_count": 10,
   "metadata": {},
   "outputs": [],
   "source": [
    "\"\"\"\n",
    "Function to get train data features and labels\n",
    "\"\"\"\n",
    "def get_xtrain_ytrain(Train, classification_type, feat_num):\n",
    "    \n",
    "    if feat_num == 16:\n",
    "        X_train = Train[['ip.len', 'tcp.flags.syn', 'tcp.flags.ack', 'tcp.flags.push',\n",
    "                    'tcp.flags.fin', 'tcp.flags.reset', 'tcp.flags.ece', 'ip.proto', 'ip.ttl', 'tcp.window_size_value',\n",
    "                    'tcp.hdr_len', 'udp.length','srcport', 'dstport']]\n",
    "    else:\n",
    "        X_train = Train[['ip.len', 'tcp.flags.syn', 'tcp.flags.ack', 'tcp.flags.push',\n",
    "                    'tcp.flags.fin', 'tcp.flags.reset', 'tcp.flags.ece', 'ip.proto','srcport', 'dstport']]\n",
    "    if classification_type == \"binary\":\n",
    "        y_train = Train['label']\n",
    "    elif classification_type == \"multiclass\":\n",
    "       y_train = Train['type'].replace(m_classes, range(len(m_classes)))\n",
    "    elif classification_type == \"4classes\":\n",
    "        y_train = Train['g_class'].replace(g_classes, range(len(g_classes)))\n",
    "    return X_train, y_train"
   ]
  },
  {
   "cell_type": "code",
   "execution_count": 11,
   "metadata": {},
   "outputs": [],
   "source": [
    "\"\"\"\n",
    "Function to get test data features and labels\n",
    "\"\"\"\n",
    "def get_xtest_ytest(Test, classification_type, feat_num):\n",
    "\n",
    "    if feat_num == 16:\n",
    "        X_test = Test[['ip.len', 'tcp.flags.syn', 'tcp.flags.ack', 'tcp.flags.push',\n",
    "                    'tcp.flags.fin', 'tcp.flags.reset', 'tcp.flags.ece', 'ip.proto', 'ip.ttl', 'tcp.window_size_value',\n",
    "                    'tcp.hdr_len', 'udp.length','srcport', 'dstport']]\n",
    "    else:\n",
    "        X_test = Test[['ip.len', 'tcp.flags.syn', 'tcp.flags.ack', 'tcp.flags.push',\n",
    "                    'tcp.flags.fin', 'tcp.flags.reset', 'tcp.flags.ece', 'ip.proto','srcport', 'dstport']]\n",
    "    if classification_type == \"binary\":\n",
    "        y_test = Test['label']\n",
    "    elif classification_type == \"multiclass\":\n",
    "        y_test = Test['type'].replace(m_classes, range(len(m_classes)))\n",
    "    elif classification_type == \"4classes\":\n",
    "        y_test = Test['g_class'].replace(g_classes, range(len(g_classes)))\n",
    "    \n",
    "    return X_test, y_test"
   ]
  },
  {
   "cell_type": "code",
   "execution_count": 12,
   "metadata": {},
   "outputs": [],
   "source": [
    "\"\"\"\n",
    "Function to perform a exhaustive search on the depth of the trees and \n",
    "the number of trees using different combinations of features\n",
    "\"\"\"\n",
    "def analyze_models(classes, model_type, depths, n_trees, X_train, y_train, X_test, y_test, max_leaf):\n",
    "    if model_type == 'RF':\n",
    "        # FOR EACH (depth, n_tree, feat)\n",
    "        for depth in depths:\n",
    "            for n_tree in n_trees:\n",
    "                # get feature orders to use\n",
    "                importance = get_feature_importance(depth, n_tree, max_leaf, X_train, y_train)\n",
    "                #print(\"Feature importance of the model with (\", depth, \", \", n_tree, \") is \", importance)\n",
    "                m_feats = get_fewest_features(depth, n_tree, max_leaf, importance) \n",
    "                for feats in m_feats:\n",
    "                    # Get the scores with the given (depth, n_tree, feat)\n",
    "                    model, c_report, macro_f1, weight_f1, y_pred = get_scores(classes, depth, n_tree, feats, max_leaf, X_train, y_train, X_test, y_test)\n",
    "                    print('Depth: ', depth, ' Number of Trees: ', n_tree, ' Features: ', feats, ' Macro Score: ', macro_f1, ' Weighted Score: ', weight_f1)"
   ]
  },
  {
   "cell_type": "code",
   "execution_count": 13,
   "metadata": {},
   "outputs": [],
   "source": [
    "\"\"\"\n",
    "Function to modify test data fields\n",
    "\"\"\"\n",
    "def prepare_test_data(test_data):\n",
    "    test_data['tcp.flags.syn'] = test_data['tcp.flags.syn'].astype('Int64').fillna(0)\n",
    "    test_data['tcp.flags.ack'] = test_data['tcp.flags.ack'].astype('Int64').fillna(0)\n",
    "    test_data['tcp.flags.push'] = test_data['tcp.flags.push'].astype('Int64').fillna(0)\n",
    "    test_data['tcp.flags.reset'] = test_data['tcp.flags.reset'].astype('Int64').fillna(0)\n",
    "    test_data['tcp.flags.fin'] = test_data['tcp.flags.fin'].astype('Int64').fillna(0)\n",
    "    test_data['tcp.flags.ece'] = test_data['tcp.flags.ece'].astype('Int64').fillna(0)\n",
    "    test_data['ip.len'] = test_data['ip.len'].astype('Int64')\n",
    "    test_data['ip.ttl'] = test_data['ip.ttl'].astype('Int64')\n",
    "    test_data['ip.hdr_len'] = test_data['ip.hdr_len'].astype('Int64')\n",
    "    test_data['tcp.window_size_value'] = test_data['tcp.window_size_value'].astype('Int64').fillna(0)\n",
    "    test_data['tcp.hdr_len'] = test_data['tcp.hdr_len'].astype('Int64').fillna(0)\n",
    "    test_data['udp.length'] = test_data['udp.length'].astype('Int64').fillna(0)\n",
    "    test_data['srcport'] = test_data['srcport'].astype('Int64')\n",
    "    test_data['dstport'] = test_data['dstport'].astype('Int64')\n",
    "\n",
    "    return test_data"
   ]
  },
  {
   "cell_type": "code",
   "execution_count": 14,
   "metadata": {},
   "outputs": [],
   "source": [
    "\"\"\"\n",
    "Function to modify train data fields\n",
    "\"\"\"\n",
    "def prepare_train_data(train_data):\n",
    "    train_data['tcp.flags.syn'] = train_data['tcp.flags.syn'].astype('Int64').fillna(0)\n",
    "    train_data['tcp.flags.ack'] = train_data['tcp.flags.ack'].astype('Int64').fillna(0)\n",
    "    train_data['tcp.flags.push'] = train_data['tcp.flags.push'].astype('Int64').fillna(0)\n",
    "    train_data['tcp.flags.reset'] = train_data['tcp.flags.reset'].astype('Int64').fillna(0)\n",
    "    train_data['tcp.flags.fin'] = train_data['tcp.flags.fin'].astype('Int64').fillna(0)\n",
    "    train_data['tcp.flags.ece'] = train_data['tcp.flags.ece'].astype('Int64').fillna(0)\n",
    "    train_data['ip.len'] = train_data['ip.len'].astype('Int64')\n",
    "    train_data['ip.ttl'] = train_data['ip.ttl'].astype('Int64')\n",
    "    train_data['ip.hdr_len'] = train_data['ip.hdr_len'].astype('Int64')\n",
    "    train_data['tcp.window_size_value'] = train_data['tcp.window_size_value'].astype('Int64').fillna(0)\n",
    "    train_data['tcp.hdr_len'] = train_data['tcp.hdr_len'].astype('Int64').fillna(0)\n",
    "    train_data['udp.length'] = train_data['udp.length'].astype('Int64').fillna(0)\n",
    "    train_data['srcport'] = train_data['srcport'].astype('Int64')\n",
    "    train_data['dstport'] = train_data['dstport'].astype('Int64')\n",
    "    train_data = train_data.drop(['eth.src', 'eth.dst', 'ID', 'Unnamed: 0', 'frame.time_relative', 'ip.src', 'ip.dst'], axis=1)\n",
    "    \n",
    "    return train_data"
   ]
  },
  {
   "attachments": {},
   "cell_type": "markdown",
   "metadata": {},
   "source": [
    "### Train Data"
   ]
  },
  {
   "cell_type": "code",
   "execution_count": 15,
   "metadata": {},
   "outputs": [],
   "source": [
    "train_data = pd.read_csv(\"/home/nds-admin/experiments/MetaCom/dataset/ToN_IoT/data/train.csv\")"
   ]
  },
  {
   "cell_type": "code",
   "execution_count": 16,
   "metadata": {},
   "outputs": [],
   "source": [
    "train_data = prepare_train_data(train_data)"
   ]
  },
  {
   "cell_type": "code",
   "execution_count": 21,
   "metadata": {},
   "outputs": [],
   "source": [
    "train_data.loc[:,'tcp.hdr_len'] /= 4\n",
    "train_data['tcp.hdr_len'] = train_data['tcp.hdr_len'].astype('Int64')"
   ]
  },
  {
   "attachments": {},
   "cell_type": "markdown",
   "metadata": {},
   "source": [
    "### Test Data"
   ]
  },
  {
   "cell_type": "code",
   "execution_count": 25,
   "metadata": {},
   "outputs": [],
   "source": [
    "test_data = pd.read_csv(\"/home/nds-admin/experiments/MetaCom/dataset/ToN_IoT/data/test.csv\")"
   ]
  },
  {
   "cell_type": "code",
   "execution_count": 27,
   "metadata": {},
   "outputs": [],
   "source": [
    "test_data = prepare_test_data(test_data)"
   ]
  },
  {
   "cell_type": "code",
   "execution_count": 29,
   "metadata": {},
   "outputs": [],
   "source": [
    "test_data.loc[:,'tcp.hdr_len'] /= 4\n",
    "test_data['tcp.hdr_len'] = test_data['tcp.hdr_len'].astype('Int64')"
   ]
  },
  {
   "attachments": {},
   "cell_type": "markdown",
   "metadata": {},
   "source": [
    "### Data Statistics"
   ]
  },
  {
   "cell_type": "code",
   "execution_count": 32,
   "metadata": {},
   "outputs": [
    {
     "data": {
      "text/plain": [
       "0.25991122281316636"
      ]
     },
     "execution_count": 32,
     "metadata": {},
     "output_type": "execute_result"
    }
   ],
   "source": [
    "len(test_data)/ (len(test_data) + len(train_data))"
   ]
  },
  {
   "cell_type": "code",
   "execution_count": 33,
   "metadata": {},
   "outputs": [
    {
     "data": {
      "text/plain": [
       "0.36423612276395817"
      ]
     },
     "execution_count": 33,
     "metadata": {},
     "output_type": "execute_result"
    }
   ],
   "source": [
    "len(test_data[test_data['type'] == 'normal'])/len(test_data)"
   ]
  },
  {
   "attachments": {},
   "cell_type": "markdown",
   "metadata": {},
   "source": [
    "# Modify test and train data for 4 Classes:\n",
    "### benign, backdoor, dos, others"
   ]
  },
  {
   "cell_type": "code",
   "execution_count": 34,
   "metadata": {},
   "outputs": [],
   "source": [
    "train_data_4classes = prepare_new_classes(train_data)"
   ]
  },
  {
   "cell_type": "code",
   "execution_count": 35,
   "metadata": {},
   "outputs": [
    {
     "data": {
      "text/plain": [
       "others      49772029\n",
       "normal      24741942\n",
       "dos          8860573\n",
       "backdoor      369013\n",
       "Name: g_class, dtype: int64"
      ]
     },
     "execution_count": 35,
     "metadata": {},
     "output_type": "execute_result"
    }
   ],
   "source": [
    "train_data_4classes['g_class'].value_counts()"
   ]
  },
  {
   "cell_type": "code",
   "execution_count": 36,
   "metadata": {},
   "outputs": [],
   "source": [
    "test_data_4classes = prepare_new_classes(test_data)"
   ]
  },
  {
   "cell_type": "code",
   "execution_count": 37,
   "metadata": {},
   "outputs": [
    {
     "data": {
      "text/plain": [
       "others      14572422\n",
       "normal      10712125\n",
       "dos          3958692\n",
       "backdoor      166598\n",
       "Name: g_class, dtype: int64"
      ]
     },
     "execution_count": 37,
     "metadata": {},
     "output_type": "execute_result"
    }
   ],
   "source": [
    "test_data_4classes['g_class'].value_counts()"
   ]
  },
  {
   "cell_type": "code",
   "execution_count": 38,
   "metadata": {},
   "outputs": [],
   "source": [
    "# Generate train and test data for 4 classes\n",
    "X_train, y_train = get_xtrain_ytrain(train_data_4classes, \"4classes\", 16)\n",
    "X_test, y_test = get_xtest_ytest(test_data_4classes, \"4classes\", 16)"
   ]
  },
  {
   "attachments": {},
   "cell_type": "markdown",
   "metadata": {},
   "source": [
    "### Analyze the models with different depths and number of trees and with different combinations of features"
   ]
  },
  {
   "cell_type": "code",
   "execution_count": null,
   "metadata": {},
   "outputs": [],
   "source": [
    "# This runs the exhaustive grid search on different depths and number of trees and\n",
    "# We pick the best model according to desired F1 score\n",
    "analyze_models(g_classes, \"RF\", [6,7,8,9,10,11,12,13,14], [2,3,4,5,6], X_train, y_train, X_test, y_test, 524)"
   ]
  },
  {
   "attachments": {},
   "cell_type": "markdown",
   "metadata": {},
   "source": [
    "### Performance of the best models we chose according to score and size"
   ]
  },
  {
   "attachments": {},
   "cell_type": "markdown",
   "metadata": {},
   "source": [
    "##### Depth: 5 Tree: 3 Feats: 7"
   ]
  },
  {
   "cell_type": "code",
   "execution_count": 46,
   "metadata": {},
   "outputs": [
    {
     "data": {
      "text/plain": [
       "{'normal': {'precision': 0.9938669042300264,\n",
       "  'recall': 0.9715764145769397,\n",
       "  'f1-score': 0.9825952589308212,\n",
       "  'support': 10712125},\n",
       " 'backdoor': {'precision': 0.9817152966265995,\n",
       "  'recall': 0.9726287230338899,\n",
       "  'f1-score': 0.9771508861644967,\n",
       "  'support': 166598},\n",
       " 'dos': {'precision': 0.9720560613764483,\n",
       "  'recall': 0.9991871052357698,\n",
       "  'f1-score': 0.9854348753561809,\n",
       "  'support': 3958692},\n",
       " 'others': {'precision': 0.9791987404552248,\n",
       "  'recall': 0.9880216891879744,\n",
       "  'f1-score': 0.9835904294373163,\n",
       "  'support': 14572422},\n",
       " 'accuracy': 0.9834474431123165,\n",
       " 'macro avg': {'precision': 0.9817092506720748,\n",
       "  'recall': 0.9828534830086435,\n",
       "  'f1-score': 0.9821928624722038,\n",
       "  'support': 29409837},\n",
       " 'weighted avg': {'precision': 0.9835942354242538,\n",
       "  'recall': 0.9834474431123165,\n",
       "  'f1-score': 0.9834397447331267,\n",
       "  'support': 29409837}}"
      ]
     },
     "execution_count": 46,
     "metadata": {},
     "output_type": "execute_result"
    }
   ],
   "source": [
    "feats_4classes =['srcport', 'dstport', 'tcp.window_size_value', 'ip.ttl', 'tcp.hdr_len', 'tcp.flags.ack', 'tcp.flags.syn']\n",
    "model, class_report, macro_score, weighted_score, y_pred =  get_scores(g_classes, 5, 3, feats_4classes, 524, X_train, y_train, X_test, y_test)\n",
    "class_report"
   ]
  },
  {
   "cell_type": "code",
   "execution_count": 39,
   "metadata": {},
   "outputs": [],
   "source": [
    "#save_model(model, \"model_d5t3f7.sav\")"
   ]
  },
  {
   "cell_type": "code",
   "execution_count": 47,
   "metadata": {},
   "outputs": [],
   "source": [
    "# Confusion matrix of 4 classes: benign, backdoor, dos, others\n",
    "conf_matrix = confusion_matrix(test_data['g_class'].replace(g_classes, range(len(g_classes))), y_pred)"
   ]
  },
  {
   "cell_type": "code",
   "execution_count": 48,
   "metadata": {},
   "outputs": [
    {
     "data": {
      "text/plain": [
       "array([[10407648,     2936,        0,   301541],\n",
       "       [    3163,   162038,        0,     1397],\n",
       "       [     300,        0,  3955474,     2918],\n",
       "       [   60762,       82,   113709, 14397869]])"
      ]
     },
     "execution_count": 48,
     "metadata": {},
     "output_type": "execute_result"
    }
   ],
   "source": [
    "conf_matrix"
   ]
  },
  {
   "cell_type": "code",
   "execution_count": 49,
   "metadata": {},
   "outputs": [],
   "source": [
    "# Classification results\n",
    "classification_results = test_data\n",
    "classification_results[\"class_pred\"] = y_pred\n",
    "classification_results = classification_results[[\"g_class\", \"class_pred\"]]\n",
    "classification_results.rename(columns={'g_class':'class'}, inplace=True)\n",
    "classification_results[\"class\"] = classification_results[\"class\"].replace(g_classes, range(len(g_classes)))"
   ]
  },
  {
   "cell_type": "code",
   "execution_count": 50,
   "metadata": {},
   "outputs": [
    {
     "name": "stdout",
     "output_type": "stream",
     "text": [
      "TP:  18633487  TPR =>  0.9965650877497739\n",
      "FP:  304477  FPR =>  0.028423585423060317\n",
      "TN:  10407648  TNR =>  0.9715764145769397\n",
      "FN:  64225  FNR =>  0.0034349122502261237\n"
     ]
    }
   ],
   "source": [
    "# Performance Values calculated in terms of classifying benign and malicious traffic\n",
    "T_P = classification_results[((classification_results['class_pred'] != 0) &  (classification_results['class'] != 0))]\n",
    "F_P = classification_results[((classification_results['class_pred'] != 0) &  (classification_results['class'] == 0))]\n",
    "\n",
    "T_N = classification_results[((classification_results['class_pred'] == 0) &  (classification_results['class'] == 0))]\n",
    "F_N = classification_results[((classification_results['class_pred'] == 0) &  (classification_results['class'] != 0))]\n",
    "\n",
    "print(\"TP: \", len(T_P), \" TPR => \", len(T_P)/(len(T_P) + len(F_N)))\n",
    "print(\"FP: \", len(F_P), \" FPR => \", len(F_P)/(len(F_P) + len(T_N)))\n",
    "print(\"TN: \", len(T_N), \" TNR => \", len(T_N)/(len(T_N) + len(F_P)))\n",
    "print(\"FN: \", len(F_N), \" FNR => \", len(F_N)/(len(F_N) + len(T_P)))"
   ]
  },
  {
   "attachments": {},
   "cell_type": "markdown",
   "metadata": {},
   "source": [
    "##### Depth: 7 Tree: 3 Feats: 7"
   ]
  },
  {
   "cell_type": "code",
   "execution_count": 40,
   "metadata": {},
   "outputs": [
    {
     "data": {
      "text/plain": [
       "{'normal': {'precision': 0.9717685961512563,\n",
       "  'recall': 0.9888849317945786,\n",
       "  'f1-score': 0.9802520519083741,\n",
       "  'support': 10712125},\n",
       " 'backdoor': {'precision': 0.9983441969664205,\n",
       "  'recall': 0.9699216077023733,\n",
       "  'f1-score': 0.9839276852395928,\n",
       "  'support': 166598},\n",
       " 'dos': {'precision': 1.0,\n",
       "  'recall': 0.9991871052357698,\n",
       "  'f1-score': 0.9995933873512383,\n",
       "  'support': 3958692},\n",
       " 'others': {'precision': 0.9913655116864549,\n",
       "  'recall': 0.9790712209679352,\n",
       "  'f1-score': 0.9851800119913855,\n",
       "  'support': 14572422},\n",
       " 'accuracy': 0.9853015846364602,\n",
       " 'macro avg': {'precision': 0.9903695762010329,\n",
       "  'recall': 0.9842662164251643,\n",
       "  'f1-score': 0.9872382841226476,\n",
       "  'support': 29409837},\n",
       " 'weighted avg': {'precision': 0.985429379024234,\n",
       "  'recall': 0.9853015846364602,\n",
       "  'f1-score': 0.9853180798832144,\n",
       "  'support': 29409837}}"
      ]
     },
     "execution_count": 40,
     "metadata": {},
     "output_type": "execute_result"
    }
   ],
   "source": [
    "feats_4classes = ['srcport', 'tcp.window_size_value', 'dstport', 'ip.ttl', 'tcp.hdr_len', 'tcp.flags.ack', 'tcp.flags.syn']\n",
    "model, class_report, macro_score, weighted_score, y_pred =  get_scores(g_classes, 7, 3, feats_4classes, 524, X_train, y_train, X_test, y_test)\n",
    "class_report"
   ]
  },
  {
   "cell_type": "code",
   "execution_count": 41,
   "metadata": {},
   "outputs": [],
   "source": [
    "#save_model(model, \"model_d7t3f7.sav\")"
   ]
  },
  {
   "cell_type": "code",
   "execution_count": 42,
   "metadata": {},
   "outputs": [],
   "source": [
    "# Confusion matrix of 4 classes: benign, backdoor, dos, others\n",
    "conf_matrix = confusion_matrix(test_data['g_class'].replace(g_classes, range(len(g_classes))), y_pred)"
   ]
  },
  {
   "cell_type": "code",
   "execution_count": 43,
   "metadata": {},
   "outputs": [
    {
     "data": {
      "text/plain": [
       "array([[10593059,      268,        0,   118798],\n",
       "       [    2462,   161587,        0,     2549],\n",
       "       [     300,        0,  3955474,     2918],\n",
       "       [  304983,        0,        0, 14267439]])"
      ]
     },
     "execution_count": 43,
     "metadata": {},
     "output_type": "execute_result"
    }
   ],
   "source": [
    "conf_matrix"
   ]
  },
  {
   "cell_type": "code",
   "execution_count": 44,
   "metadata": {},
   "outputs": [],
   "source": [
    "# Classification results\n",
    "classification_results = test_data\n",
    "classification_results[\"class_pred\"] = y_pred\n",
    "classification_results = classification_results[[\"g_class\", \"class_pred\"]]\n",
    "classification_results.rename(columns={'g_class':'class'}, inplace=True)\n",
    "classification_results[\"class\"] = classification_results[\"class\"].replace(g_classes, range(len(g_classes)))\n"
   ]
  },
  {
   "cell_type": "code",
   "execution_count": 45,
   "metadata": {},
   "outputs": [
    {
     "name": "stdout",
     "output_type": "stream",
     "text": [
      "TP:  18389967  TPR =>  0.9835410343254832\n",
      "FP:  119066  FPR =>  0.011115068205421427\n",
      "TN:  10593059  TNR =>  0.9888849317945786\n",
      "FN:  307745  FNR =>  0.016458965674516754\n"
     ]
    }
   ],
   "source": [
    "# Performance Values calculated in terms of classifying benign and malicious traffic\n",
    "T_P = classification_results[((classification_results['class_pred'] != 0) &  (classification_results['class'] != 0))]\n",
    "F_P = classification_results[((classification_results['class_pred'] != 0) &  (classification_results['class'] == 0))]\n",
    "\n",
    "T_N = classification_results[((classification_results['class_pred'] == 0) &  (classification_results['class'] == 0))]\n",
    "F_N = classification_results[((classification_results['class_pred'] == 0) &  (classification_results['class'] != 0))]\n",
    "\n",
    "print(\"TP: \", len(T_P), \" TPR => \", len(T_P)/(len(T_P) + len(F_N)))\n",
    "print(\"FP: \", len(F_P), \" FPR => \", len(F_P)/(len(F_P) + len(T_N)))\n",
    "print(\"TN: \", len(T_N), \" TNR => \", len(T_N)/(len(T_N) + len(F_P)))\n",
    "print(\"FN: \", len(F_N), \" FNR => \", len(F_N)/(len(F_N) + len(T_P)))"
   ]
  },
  {
   "attachments": {},
   "cell_type": "markdown",
   "metadata": {},
   "source": [
    "##### Depth: 9 Tree: 3 Feats: 10"
   ]
  },
  {
   "cell_type": "code",
   "execution_count": 51,
   "metadata": {},
   "outputs": [
    {
     "data": {
      "text/plain": [
       "{'normal': {'precision': 0.9980930217679588,\n",
       "  'recall': 0.9728429233228701,\n",
       "  'f1-score': 0.9853062302338302,\n",
       "  'support': 10712125},\n",
       " 'backdoor': {'precision': 0.996426701167483,\n",
       "  'recall': 0.9708099737091682,\n",
       "  'f1-score': 0.9834515510180504,\n",
       "  'support': 166598},\n",
       " 'dos': {'precision': 0.9999989887442176,\n",
       "  'recall': 0.9991871052357698,\n",
       "  'f1-score': 0.9995928821341974,\n",
       "  'support': 3958692},\n",
       " 'others': {'precision': 0.9800029196848302,\n",
       "  'recall': 0.9987319197865667,\n",
       "  'f1-score': 0.9892787834419885,\n",
       "  'support': 14572422},\n",
       " 'accuracy': 0.9892053124945915,\n",
       " 'macro avg': {'precision': 0.9936304078411224,\n",
       "  'recall': 0.9853929805135937,\n",
       "  'f1-score': 0.9894073617070167,\n",
       "  'support': 29409837},\n",
       " 'weighted avg': {'precision': 0.9893765820598215,\n",
       "  'recall': 0.9892053124945915,\n",
       "  'f1-score': 0.9891871490741323,\n",
       "  'support': 29409837}}"
      ]
     },
     "execution_count": 51,
     "metadata": {},
     "output_type": "execute_result"
    }
   ],
   "source": [
    "feats_4classes = ['dstport', 'tcp.window_size_value', 'srcport', 'ip.ttl', 'tcp.hdr_len', 'tcp.flags.ack', 'tcp.flags.syn', 'tcp.flags.push', 'ip.len', 'udp.length']\n",
    "model, class_report, macro_score, weighted_score, y_pred =  get_scores(g_classes, 9, 3, feats_4classes, 524, X_train, y_train, X_test, y_test)\n",
    "class_report"
   ]
  },
  {
   "cell_type": "code",
   "execution_count": 41,
   "metadata": {},
   "outputs": [],
   "source": [
    "#save_model(model, \"model_d9t3f10.sav\")"
   ]
  },
  {
   "cell_type": "code",
   "execution_count": 52,
   "metadata": {},
   "outputs": [],
   "source": [
    "# Confusion matrix of 4 classes: benign, backdoor, dos, others\n",
    "conf_matrix = confusion_matrix(test_data['g_class'].replace(g_classes, range(len(g_classes))), y_pred)"
   ]
  },
  {
   "cell_type": "code",
   "execution_count": 53,
   "metadata": {},
   "outputs": [
    {
     "data": {
      "text/plain": [
       "array([[10421215,      580,        0,   290330],\n",
       "       [    1418,   161735,        4,     3441],\n",
       "       [      14,        0,  3955474,     3204],\n",
       "       [   18479,        0,        0, 14553943]])"
      ]
     },
     "execution_count": 53,
     "metadata": {},
     "output_type": "execute_result"
    }
   ],
   "source": [
    "conf_matrix"
   ]
  },
  {
   "cell_type": "code",
   "execution_count": 54,
   "metadata": {},
   "outputs": [],
   "source": [
    "# Classification results\n",
    "classification_results = test_data\n",
    "classification_results[\"class_pred\"] = y_pred\n",
    "classification_results = classification_results[[\"g_class\", \"class_pred\"]]\n",
    "classification_results.rename(columns={'g_class':'class'}, inplace=True)\n",
    "classification_results[\"class\"] = classification_results[\"class\"].replace(g_classes, range(len(g_classes)))"
   ]
  },
  {
   "cell_type": "code",
   "execution_count": 55,
   "metadata": {},
   "outputs": [
    {
     "name": "stdout",
     "output_type": "stream",
     "text": [
      "TP:  18677801  TPR =>  0.9989351103493305\n",
      "FP:  290910  FPR =>  0.02715707667712989\n",
      "TN:  10421215  TNR =>  0.9728429233228701\n",
      "FN:  19911  FNR =>  0.0010648896506695578\n"
     ]
    }
   ],
   "source": [
    "# Performance Values calculated in terms of classifying benign and malicious traffic\n",
    "T_P = classification_results[((classification_results['class_pred'] != 0) &  (classification_results['class'] != 0))]\n",
    "F_P = classification_results[((classification_results['class_pred'] != 0) &  (classification_results['class'] == 0))]\n",
    "\n",
    "T_N = classification_results[((classification_results['class_pred'] == 0) &  (classification_results['class'] == 0))]\n",
    "F_N = classification_results[((classification_results['class_pred'] == 0) &  (classification_results['class'] != 0))]\n",
    "\n",
    "print(\"TP: \", len(T_P), \" TPR => \", len(T_P)/(len(T_P) + len(F_N)))\n",
    "print(\"FP: \", len(F_P), \" FPR => \", len(F_P)/(len(F_P) + len(T_N)))\n",
    "print(\"TN: \", len(T_N), \" TNR => \", len(T_N)/(len(T_N) + len(F_P)))\n",
    "print(\"FN: \", len(F_N), \" FNR => \", len(F_N)/(len(F_N) + len(T_P)))"
   ]
  },
  {
   "attachments": {},
   "cell_type": "markdown",
   "metadata": {},
   "source": [
    "##### Depth: 10 Tree: 3 Feats: 9"
   ]
  },
  {
   "cell_type": "code",
   "execution_count": 56,
   "metadata": {},
   "outputs": [
    {
     "data": {
      "text/plain": [
       "{'normal': {'precision': 0.9986985759757463,\n",
       "  'recall': 0.9926081893181792,\n",
       "  'f1-score': 0.9956440689615264,\n",
       "  'support': 10712125},\n",
       " 'backdoor': {'precision': 0.9995860952722195,\n",
       "  'recall': 0.9712361492935089,\n",
       "  'f1-score': 0.9852072176843617,\n",
       "  'support': 166598},\n",
       " 'dos': {'precision': 0.9720529559156158,\n",
       "  'recall': 0.9991871052357698,\n",
       "  'f1-score': 0.9854332795873585,\n",
       "  'support': 3958692},\n",
       " 'others': {'precision': 0.9941175211700493,\n",
       "  'recall': 0.991357853896902,\n",
       "  'f1-score': 0.9927357696644468,\n",
       "  'support': 14572422},\n",
       " 'accuracy': 0.9927531390262381,\n",
       " 'macro avg': {'precision': 0.9911137870834077,\n",
       "  'recall': 0.9885973244360899,\n",
       "  'f1-score': 0.9897550839744234,\n",
       "  'support': 29409837},\n",
       " 'weighted avg': {'precision': 0.992847098190913,\n",
       "  'recall': 0.9927531390262381,\n",
       "  'f1-score': 0.992769483379239,\n",
       "  'support': 29409837}}"
      ]
     },
     "execution_count": 56,
     "metadata": {},
     "output_type": "execute_result"
    }
   ],
   "source": [
    "feats_4classes = ['dstport', 'tcp.window_size_value', 'srcport', 'ip.ttl', 'tcp.hdr_len', 'tcp.flags.ack', 'tcp.flags.syn', 'tcp.flags.push', 'ip.len']\n",
    "model, class_report, macro_score, weighted_score, y_pred =  get_scores(g_classes, 10, 3, feats_4classes, 524, X_train, y_train, X_test, y_test)\n",
    "class_report"
   ]
  },
  {
   "cell_type": "code",
   "execution_count": 43,
   "metadata": {},
   "outputs": [],
   "source": [
    "#save_model(model, \"model_d10t3f9.sav\")"
   ]
  },
  {
   "cell_type": "code",
   "execution_count": 57,
   "metadata": {},
   "outputs": [],
   "source": [
    "# Confusion matrix of 4 classes: benign, backdoor, dos, others\n",
    "conf_matrix = confusion_matrix(test_data['g_class'].replace(g_classes, range(len(g_classes))), y_pred)"
   ]
  },
  {
   "cell_type": "code",
   "execution_count": 58,
   "metadata": {},
   "outputs": [
    {
     "data": {
      "text/plain": [
       "array([[10632943,       64,        3,    79115],\n",
       "       [    1622,   161806,       10,     3160],\n",
       "       [       9,        0,  3955474,     3209],\n",
       "       [   12225,        3,   113709, 14446485]])"
      ]
     },
     "execution_count": 58,
     "metadata": {},
     "output_type": "execute_result"
    }
   ],
   "source": [
    "conf_matrix"
   ]
  },
  {
   "cell_type": "code",
   "execution_count": 59,
   "metadata": {},
   "outputs": [],
   "source": [
    "#### Classification results\n",
    "classification_results = test_data\n",
    "classification_results[\"class_pred\"] = y_pred\n",
    "classification_results = classification_results[[\"g_class\", \"class_pred\"]]\n",
    "classification_results.rename(columns={'g_class':'class'}, inplace=True)\n",
    "classification_results[\"class\"] = classification_results[\"class\"].replace(g_classes, range(len(g_classes)))"
   ]
  },
  {
   "cell_type": "code",
   "execution_count": 60,
   "metadata": {},
   "outputs": [
    {
     "name": "stdout",
     "output_type": "stream",
     "text": [
      "TP:  18683856  TPR =>  0.999258946763112\n",
      "FP:  79182  FPR =>  0.007391810681820834\n",
      "TN:  10632943  TNR =>  0.9926081893181792\n",
      "FN:  13856  FNR =>  0.0007410532368880213\n"
     ]
    }
   ],
   "source": [
    "# Performance Values calculated in terms of classifying benign and malicious traffic\n",
    "T_P = classification_results[((classification_results['class_pred'] != 0) &  (classification_results['class'] != 0))]\n",
    "F_P = classification_results[((classification_results['class_pred'] != 0) &  (classification_results['class'] == 0))]\n",
    "\n",
    "T_N = classification_results[((classification_results['class_pred'] == 0) &  (classification_results['class'] == 0))]\n",
    "F_N = classification_results[((classification_results['class_pred'] == 0) &  (classification_results['class'] != 0))]\n",
    "\n",
    "print(\"TP: \", len(T_P), \" TPR => \", len(T_P)/(len(T_P) + len(F_N)))\n",
    "print(\"FP: \", len(F_P), \" FPR => \", len(F_P)/(len(F_P) + len(T_N)))\n",
    "print(\"TN: \", len(T_N), \" TNR => \", len(T_N)/(len(T_N) + len(F_P)))\n",
    "print(\"FN: \", len(F_N), \" FNR => \", len(F_N)/(len(F_N) + len(T_P)))"
   ]
  }
 ],
 "metadata": {
  "kernelspec": {
   "display_name": "Python 3.8.10 64-bit",
   "language": "python",
   "name": "python3"
  },
  "language_info": {
   "codemirror_mode": {
    "name": "ipython",
    "version": 3
   },
   "file_extension": ".py",
   "mimetype": "text/x-python",
   "name": "python",
   "nbconvert_exporter": "python",
   "pygments_lexer": "ipython3",
   "version": "3.8.10"
  },
  "orig_nbformat": 4,
  "vscode": {
   "interpreter": {
    "hash": "31f2aee4e71d21fbe5cf8b01ff0e069b9275f58929596ceb00d14d90e3e16cd6"
   }
  }
 },
 "nbformat": 4,
 "nbformat_minor": 2
}
